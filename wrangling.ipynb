{
 "cells": [
  {
   "cell_type": "markdown",
   "metadata": {},
   "source": [
    "DETECCION DE OUTLIERS "
   ]
  },
  {
   "cell_type": "markdown",
   "metadata": {},
   "source": [
    "EN EL CASO DE MI SERIE DE TIEMPO AL SER DATOS FINANCIEROS NO CONSIDERO PRUDENTE ELIMINAR LOS OUTLIERS, ADEMAS DE ELLO NO CUENTO CON VALORES NULOS, NI DUPLICADOS POR LO QUE PROCEDO A IDENTIFICAR LOS OUTLIERS PARA POSTERIORMENTE INTENTAR MODELARLOS DENTRO DE LOS FORECAST QUE ENTREGARE EN EL TRABAJO FINAL "
   ]
  },
  {
   "cell_type": "code",
   "execution_count": 1,
   "metadata": {},
   "outputs": [
    {
     "name": "stderr",
     "output_type": "stream",
     "text": [
      "[*********************100%%**********************]  1 of 1 completed\n",
      "[*********************100%%**********************]  1 of 1 completed\n",
      "[*********************100%%**********************]  1 of 1 completed\n",
      "[*********************100%%**********************]  1 of 1 completed\n"
     ]
    },
    {
     "name": "stdout",
     "output_type": "stream",
     "text": [
      "                  AAPL       GOOGL        MSFT        AMZN\n",
      "Date                                                      \n",
      "2024-01-02  185.639999  138.169998  370.869995  149.929993\n",
      "2024-01-03  184.250000  138.919998  370.600006  148.470001\n",
      "2024-01-04  181.910004  136.389999  367.940002  144.570007\n",
      "2024-01-05  181.179993  135.729996  367.750000  145.240005\n",
      "2024-01-08  185.559998  138.839996  374.690002  149.100006\n",
      "...                ...         ...         ...         ...\n",
      "2024-05-23  186.880005  173.550003  427.000000  181.050003\n",
      "2024-05-24  189.979996  174.990005  430.160004  180.750000\n",
      "2024-05-28  189.990005  176.399994  430.320007  182.149994\n",
      "2024-05-29  190.289993  175.899994  429.170013  182.020004\n",
      "2024-05-30  191.289993  172.110001  414.670013  179.320007\n",
      "\n",
      "[104 rows x 4 columns]\n"
     ]
    }
   ],
   "source": [
    "import yfinance as yf\n",
    "import pandas as pd\n",
    "\n",
    "def descargar_precios_cierre(tickers, start_date, end_date):\n",
    "    precios_cierre = pd.DataFrame()\n",
    "    for ticker in tickers:\n",
    "        data = yf.download(ticker, start=start_date, end=end_date)\n",
    "        precios_cierre[ticker] = data['Close']\n",
    "    return precios_cierre\n",
    "\n",
    "# Lista de tickers de los activos financieros que quieres descargar\n",
    "tickers = ['AAPL', 'GOOGL', 'MSFT', 'AMZN']\n",
    "\n",
    "# Fechas de inicio y fin para los datos\n",
    "start_date = '2024-01-01'\n",
    "end_date = '2024-05-31'\n",
    "\n",
    "# Descargar los precios de cierre\n",
    "df_precios_cierre = descargar_precios_cierre(tickers, start_date, end_date)\n",
    "\n",
    "# Imprimir el DataFrame con los precios de cierre\n",
    "print(df_precios_cierre)\n"
   ]
  },
  {
   "cell_type": "code",
   "execution_count": 4,
   "metadata": {},
   "outputs": [
    {
     "name": "stderr",
     "output_type": "stream",
     "text": [
      "[*********************100%%**********************]  1 of 1 completed\n",
      "[*********************100%%**********************]  1 of 1 completed\n",
      "[*********************100%%**********************]  1 of 1 completed\n",
      "[*********************100%%**********************]  1 of 1 completed\n"
     ]
    },
    {
     "name": "stdout",
     "output_type": "stream",
     "text": [
      "                  AAPL       GOOGL        MSFT        AMZN  Anomalias\n",
      "Date                                                                 \n",
      "2024-01-02  185.639999  138.169998  370.869995  149.929993          1\n",
      "2024-01-03  184.250000  138.919998  370.600006  148.470001          1\n",
      "2024-01-04  181.910004  136.389999  367.940002  144.570007         -1\n",
      "2024-01-05  181.179993  135.729996  367.750000  145.240005         -1\n",
      "2024-01-08  185.559998  138.839996  374.690002  149.100006          1\n",
      "...                ...         ...         ...         ...        ...\n",
      "2024-05-23  186.880005  173.550003  427.000000  181.050003          1\n",
      "2024-05-24  189.979996  174.990005  430.160004  180.750000          1\n",
      "2024-05-28  189.990005  176.399994  430.320007  182.149994          1\n",
      "2024-05-29  190.289993  175.899994  429.170013  182.020004          1\n",
      "2024-05-30  191.289993  172.110001  414.670013  179.320007          1\n",
      "\n",
      "[104 rows x 5 columns]\n"
     ]
    }
   ],
   "source": [
    "start_date = '2024-01-01'\n",
    "end_date = '2024-05-31'\n",
    "\n",
    "# Descargar los precios de cierre\n",
    "df_precios_cierre = descargar_precios_cierre(tickers, start_date, end_date)\n",
    "\n",
    "# Crear el modelo Isolation Forest\n",
    "modelo_if = IsolationForest(contamination=0.01)  \n",
    "\n",
    "# Entrenar el modelo con los datos de precios de cierre\n",
    "modelo_if.fit(df_precios_cierre)\n",
    "\n",
    "# Predecir las anomalías\n",
    "anomalias = modelo_if.predict(df_precios_cierre)\n",
    "\n",
    "# Agregar la columna de anomalías al DataFrame\n",
    "df_precios_cierre['Anomalias'] = anomalias\n",
    "\n",
    "# Imprimir el DataFrame con la columna de anomalías\n",
    "print(df_precios_cierre)"
   ]
  },
  {
   "cell_type": "code",
   "execution_count": 5,
   "metadata": {},
   "outputs": [
    {
     "name": "stdout",
     "output_type": "stream",
     "text": [
      "Valores atípicos:\n",
      "                  AAPL       GOOGL        MSFT        AMZN  Anomalias\n",
      "Date                                                                 \n",
      "2024-01-04  181.910004  136.389999  367.940002  144.570007         -1\n",
      "2024-01-05  181.179993  135.729996  367.750000  145.240005         -1\n"
     ]
    }
   ],
   "source": [
    "from sklearn.neighbors import LocalOutlierFactor\n",
    "\n",
    "def detectar_outliers(datos):\n",
    "    lof = LocalOutlierFactor(n_neighbors=20)  # Puedes ajustar el número de vecinos según tu caso\n",
    "    outliers = lof.fit_predict(datos)\n",
    "    return outliers\n",
    "\n",
    "# Aplicar LoF a tus datos de precios de cierre\n",
    "outliers = detectar_outliers(df_precios_cierre)\n",
    "\n",
    "# Filtrar los datos para obtener solo los valores atípicos\n",
    "valores_atipicos = df_precios_cierre[outliers == -1]\n",
    "\n",
    "# Mostrar los valores atípicos\n",
    "print(\"Valores atípicos:\")\n",
    "print(valores_atipicos)\n"
   ]
  },
  {
   "cell_type": "code",
   "execution_count": 7,
   "metadata": {},
   "outputs": [
    {
     "name": "stderr",
     "output_type": "stream",
     "text": [
      "[*********************100%%**********************]  1 of 1 completed\n",
      "[*********************100%%**********************]  1 of 1 completed\n",
      "[*********************100%%**********************]  1 of 1 completed\n",
      "[*********************100%%**********************]  1 of 1 completed"
     ]
    },
    {
     "name": "stdout",
     "output_type": "stream",
     "text": [
      "                AAPL     GOOGL      MSFT      AMZN\n",
      "Date                                              \n",
      "2024-01-02  0.650066 -1.087946 -2.654500 -2.034307\n",
      "2024-01-03  0.487361 -1.028443 -2.673199 -2.160334\n",
      "2024-01-04  0.213455 -1.229167 -2.857423 -2.496982\n",
      "2024-01-05  0.128004 -1.281530 -2.870582 -2.439147\n",
      "2024-01-08  0.640701 -1.034790 -2.389938 -2.105952\n"
     ]
    },
    {
     "name": "stderr",
     "output_type": "stream",
     "text": [
      "\n"
     ]
    }
   ],
   "source": [
    "import pandas as pd\n",
    "import yfinance as yf\n",
    "\n",
    "def descargar_precios_cierre(tickers, start_date, end_date):\n",
    "    precios_cierre = pd.DataFrame()\n",
    "    for ticker in tickers:\n",
    "        data = yf.download(ticker, start=start_date, end=end_date)\n",
    "        precios_cierre[ticker] = data['Close']\n",
    "    return precios_cierre\n",
    "\n",
    "# Calcular Z-score\n",
    "def calcular_z_score(data):\n",
    "    return (data - data.mean()) / data.std()\n",
    "\n",
    "# Lista de tickers de los activos financieros que quieres descargar\n",
    "tickers = ['AAPL', 'GOOGL', 'MSFT', 'AMZN']\n",
    "\n",
    "# Fechas de inicio y fin para los datos\n",
    "start_date = '2024-01-01'\n",
    "end_date = '2024-05-31'\n",
    "\n",
    "# Descargar los precios de cierre\n",
    "df_precios_cierre = descargar_precios_cierre(tickers, start_date, end_date)\n",
    "\n",
    "# Calcular Z-score para cada columna (activo financiero)\n",
    "df_z_score = df_precios_cierre.apply(calcular_z_score)\n",
    "\n",
    "# Imprimir los primeros 5 valores de Z-score\n",
    "print(df_z_score.head())\n"
   ]
  }
 ],
 "metadata": {
  "kernelspec": {
   "display_name": "Python 3",
   "language": "python",
   "name": "python3"
  },
  "language_info": {
   "codemirror_mode": {
    "name": "ipython",
    "version": 3
   },
   "file_extension": ".py",
   "mimetype": "text/x-python",
   "name": "python",
   "nbconvert_exporter": "python",
   "pygments_lexer": "ipython3",
   "version": "3.12.2"
  }
 },
 "nbformat": 4,
 "nbformat_minor": 2
}
