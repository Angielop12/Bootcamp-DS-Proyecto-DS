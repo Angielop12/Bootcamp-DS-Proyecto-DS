{
 "cells": [
  {
   "cell_type": "code",
   "execution_count": 1,
   "metadata": {},
   "outputs": [],
   "source": [
    "!pip install -q sqlalchemy"
   ]
  },
  {
   "cell_type": "code",
   "execution_count": 2,
   "metadata": {},
   "outputs": [
    {
     "name": "stdout",
     "output_type": "stream",
     "text": [
      "Name: SQLAlchemy\n",
      "Version: 2.0.30\n",
      "Summary: Database Abstraction Library\n",
      "Home-page: https://www.sqlalchemy.org\n",
      "Author: Mike Bayer\n",
      "Author-email: mike_mp@zzzcomputing.com\n",
      "License: MIT\n",
      "Location: C:\\python\\Lib\\site-packages\n",
      "Requires: greenlet, typing-extensions\n",
      "Required-by: \n"
     ]
    }
   ],
   "source": [
    "!pip show sqlalchemy"
   ]
  },
  {
   "cell_type": "code",
   "execution_count": 3,
   "metadata": {},
   "outputs": [
    {
     "data": {
      "text/plain": [
       "'c:\\\\Users\\\\acer\\\\Desktop\\\\BOOTDTASC\\\\Codigos proyecto'"
      ]
     },
     "execution_count": 3,
     "metadata": {},
     "output_type": "execute_result"
    }
   ],
   "source": [
    "import os \n",
    "os.getcwd()"
   ]
  },
  {
   "cell_type": "code",
   "execution_count": 4,
   "metadata": {},
   "outputs": [],
   "source": [
    "import pandas as pd\n",
    "from sqlalchemy import create_engine, text"
   ]
  },
  {
   "cell_type": "code",
   "execution_count": 19,
   "metadata": {},
   "outputs": [],
   "source": [
    "pd.options.display.max_rows = 100\n",
    "\n",
    "\n",
    "ruta=\"c:/Users/acer/Desktop/BOOTDTASC/Codigos proyecto/\""
   ]
  },
  {
   "cell_type": "code",
   "execution_count": 20,
   "metadata": {},
   "outputs": [
    {
     "name": "stdout",
     "output_type": "stream",
     "text": [
      "Engine(sqlite://)\n"
     ]
    }
   ],
   "source": [
    "engine=create_engine('sqlite://') #indica que se está utilizando el motor de base de datos SQLite.\n",
    "print(engine)"
   ]
  },
  {
   "cell_type": "code",
   "execution_count": 30,
   "metadata": {},
   "outputs": [],
   "source": [
    "def runQuery(sql):\n",
    "    result = engine.connect().execute((text(sql)))\n",
    "    return pd.DataFrame(result.fetchall(), columns=result.keys())"
   ]
  },
  {
   "cell_type": "code",
   "execution_count": 31,
   "metadata": {},
   "outputs": [],
   "source": [
    "df = pd.read_csv('FTNT_stock_data.csv').to_sql('FTNT', engine, if_exists='replace', index=False)\n",
    "def runQuery(sql):\n",
    "    result = engine.connect().execute((text(sql)))\n",
    "    return pd.DataFrame(result.fetchall(), columns=result.keys())"
   ]
  },
  {
   "cell_type": "code",
   "execution_count": 38,
   "metadata": {},
   "outputs": [
    {
     "data": {
      "text/html": [
       "<div>\n",
       "<style scoped>\n",
       "    .dataframe tbody tr th:only-of-type {\n",
       "        vertical-align: middle;\n",
       "    }\n",
       "\n",
       "    .dataframe tbody tr th {\n",
       "        vertical-align: top;\n",
       "    }\n",
       "\n",
       "    .dataframe thead th {\n",
       "        text-align: right;\n",
       "    }\n",
       "</style>\n",
       "<table border=\"1\" class=\"dataframe\">\n",
       "  <thead>\n",
       "    <tr style=\"text-align: right;\">\n",
       "      <th></th>\n",
       "      <th>Date</th>\n",
       "      <th>Open</th>\n",
       "      <th>High</th>\n",
       "      <th>Low</th>\n",
       "      <th>Close</th>\n",
       "      <th>Adj Close</th>\n",
       "      <th>Volume</th>\n",
       "    </tr>\n",
       "  </thead>\n",
       "  <tbody>\n",
       "    <tr>\n",
       "      <th>0</th>\n",
       "      <td>2020-01-08</td>\n",
       "      <td>22.389999</td>\n",
       "      <td>22.879999</td>\n",
       "      <td>22.360001</td>\n",
       "      <td>22.733999</td>\n",
       "      <td>22.733999</td>\n",
       "      <td>6953000</td>\n",
       "    </tr>\n",
       "    <tr>\n",
       "      <th>1</th>\n",
       "      <td>2020-01-09</td>\n",
       "      <td>23.002001</td>\n",
       "      <td>23.156000</td>\n",
       "      <td>22.688000</td>\n",
       "      <td>22.896000</td>\n",
       "      <td>22.896000</td>\n",
       "      <td>5476500</td>\n",
       "    </tr>\n",
       "    <tr>\n",
       "      <th>2</th>\n",
       "      <td>2020-01-10</td>\n",
       "      <td>22.969999</td>\n",
       "      <td>23.059999</td>\n",
       "      <td>22.771999</td>\n",
       "      <td>22.864000</td>\n",
       "      <td>22.864000</td>\n",
       "      <td>3483000</td>\n",
       "    </tr>\n",
       "    <tr>\n",
       "      <th>3</th>\n",
       "      <td>2020-01-13</td>\n",
       "      <td>23.240000</td>\n",
       "      <td>23.350000</td>\n",
       "      <td>22.968000</td>\n",
       "      <td>23.337999</td>\n",
       "      <td>23.337999</td>\n",
       "      <td>4216500</td>\n",
       "    </tr>\n",
       "    <tr>\n",
       "      <th>4</th>\n",
       "      <td>2020-01-14</td>\n",
       "      <td>23.504000</td>\n",
       "      <td>23.534000</td>\n",
       "      <td>23.264000</td>\n",
       "      <td>23.344000</td>\n",
       "      <td>23.344000</td>\n",
       "      <td>3981000</td>\n",
       "    </tr>\n",
       "    <tr>\n",
       "      <th>...</th>\n",
       "      <td>...</td>\n",
       "      <td>...</td>\n",
       "      <td>...</td>\n",
       "      <td>...</td>\n",
       "      <td>...</td>\n",
       "      <td>...</td>\n",
       "      <td>...</td>\n",
       "    </tr>\n",
       "    <tr>\n",
       "      <th>1008</th>\n",
       "      <td>2024-04-03</td>\n",
       "      <td>68.610001</td>\n",
       "      <td>72.019997</td>\n",
       "      <td>68.580002</td>\n",
       "      <td>71.320000</td>\n",
       "      <td>71.320000</td>\n",
       "      <td>7868900</td>\n",
       "    </tr>\n",
       "    <tr>\n",
       "      <th>1009</th>\n",
       "      <td>2024-04-04</td>\n",
       "      <td>72.029999</td>\n",
       "      <td>73.629997</td>\n",
       "      <td>69.209999</td>\n",
       "      <td>69.230003</td>\n",
       "      <td>69.230003</td>\n",
       "      <td>6959700</td>\n",
       "    </tr>\n",
       "    <tr>\n",
       "      <th>1010</th>\n",
       "      <td>2024-04-05</td>\n",
       "      <td>69.750000</td>\n",
       "      <td>71.830002</td>\n",
       "      <td>69.339996</td>\n",
       "      <td>70.910004</td>\n",
       "      <td>70.910004</td>\n",
       "      <td>7474700</td>\n",
       "    </tr>\n",
       "    <tr>\n",
       "      <th>1011</th>\n",
       "      <td>2024-04-08</td>\n",
       "      <td>70.040001</td>\n",
       "      <td>70.239998</td>\n",
       "      <td>68.230003</td>\n",
       "      <td>68.389999</td>\n",
       "      <td>68.389999</td>\n",
       "      <td>5099900</td>\n",
       "    </tr>\n",
       "    <tr>\n",
       "      <th>1012</th>\n",
       "      <td>2024-04-09</td>\n",
       "      <td>69.139999</td>\n",
       "      <td>69.139999</td>\n",
       "      <td>67.800003</td>\n",
       "      <td>68.220001</td>\n",
       "      <td>68.220001</td>\n",
       "      <td>2799600</td>\n",
       "    </tr>\n",
       "  </tbody>\n",
       "</table>\n",
       "<p>1013 rows × 7 columns</p>\n",
       "</div>"
      ],
      "text/plain": [
       "            Date       Open       High        Low      Close  Adj Close  \\\n",
       "0     2020-01-08  22.389999  22.879999  22.360001  22.733999  22.733999   \n",
       "1     2020-01-09  23.002001  23.156000  22.688000  22.896000  22.896000   \n",
       "2     2020-01-10  22.969999  23.059999  22.771999  22.864000  22.864000   \n",
       "3     2020-01-13  23.240000  23.350000  22.968000  23.337999  23.337999   \n",
       "4     2020-01-14  23.504000  23.534000  23.264000  23.344000  23.344000   \n",
       "...          ...        ...        ...        ...        ...        ...   \n",
       "1008  2024-04-03  68.610001  72.019997  68.580002  71.320000  71.320000   \n",
       "1009  2024-04-04  72.029999  73.629997  69.209999  69.230003  69.230003   \n",
       "1010  2024-04-05  69.750000  71.830002  69.339996  70.910004  70.910004   \n",
       "1011  2024-04-08  70.040001  70.239998  68.230003  68.389999  68.389999   \n",
       "1012  2024-04-09  69.139999  69.139999  67.800003  68.220001  68.220001   \n",
       "\n",
       "       Volume  \n",
       "0     6953000  \n",
       "1     5476500  \n",
       "2     3483000  \n",
       "3     4216500  \n",
       "4     3981000  \n",
       "...       ...  \n",
       "1008  7868900  \n",
       "1009  6959700  \n",
       "1010  7474700  \n",
       "1011  5099900  \n",
       "1012  2799600  \n",
       "\n",
       "[1013 rows x 7 columns]"
      ]
     },
     "execution_count": 38,
     "metadata": {},
     "output_type": "execute_result"
    }
   ],
   "source": [
    "query_ejemplo= \"\"\"\n",
    "SELECT * FROM FTNT\n",
    "WHERE close > 22.733999\n",
    "\"\"\"\n",
    "t=runQuery(query_ejemplo)\n",
    "t\n"
   ]
  },
  {
   "cell_type": "code",
   "execution_count": 39,
   "metadata": {},
   "outputs": [
    {
     "name": "stdout",
     "output_type": "stream",
     "text": [
      "         Date       Open       High        Low      Close  Adj Close   Volume\n",
      "0  2023-07-17  78.720001  80.599998  78.580002  80.279999  80.279999  4185300\n",
      "1  2023-07-18  79.959999  80.440002  79.160004  80.239998  80.239998  4586200\n",
      "2  2023-07-14  78.550003  80.029999  78.339996  78.919998  78.919998  4913400\n",
      "3  2023-07-19  80.449997  81.239998  78.300003  78.690002  78.690002  5985000\n",
      "4  2023-07-25  77.730003  78.620003  77.410004  78.339996  78.339996  3679000\n"
     ]
    }
   ],
   "source": [
    "query_ejemplo = \"\"\"\n",
    "SELECT * FROM FTNT\n",
    "ORDER BY close DESC\n",
    "LIMIT 5\n",
    "\"\"\"\n",
    "\n",
    "# Ejecutar la consulta\n",
    "t = runQuery(query_ejemplo)\n",
    "\n",
    "# Mostrar los resultados\n",
    "print(t)"
   ]
  },
  {
   "cell_type": "code",
   "execution_count": 46,
   "metadata": {},
   "outputs": [
    {
     "data": {
      "text/html": [
       "<div>\n",
       "<style scoped>\n",
       "    .dataframe tbody tr th:only-of-type {\n",
       "        vertical-align: middle;\n",
       "    }\n",
       "\n",
       "    .dataframe tbody tr th {\n",
       "        vertical-align: top;\n",
       "    }\n",
       "\n",
       "    .dataframe thead th {\n",
       "        text-align: right;\n",
       "    }\n",
       "</style>\n",
       "<table border=\"1\" class=\"dataframe\">\n",
       "  <thead>\n",
       "    <tr style=\"text-align: right;\">\n",
       "      <th></th>\n",
       "      <th>Date</th>\n",
       "      <th>Open</th>\n",
       "      <th>High</th>\n",
       "      <th>Low</th>\n",
       "      <th>Close</th>\n",
       "      <th>Adj Close</th>\n",
       "      <th>Volume</th>\n",
       "    </tr>\n",
       "  </thead>\n",
       "  <tbody>\n",
       "    <tr>\n",
       "      <th>0</th>\n",
       "      <td>2023-07-19</td>\n",
       "      <td>80.449997</td>\n",
       "      <td>81.239998</td>\n",
       "      <td>78.300003</td>\n",
       "      <td>78.690002</td>\n",
       "      <td>78.690002</td>\n",
       "      <td>5985000</td>\n",
       "    </tr>\n",
       "  </tbody>\n",
       "</table>\n",
       "</div>"
      ],
      "text/plain": [
       "         Date       Open       High        Low      Close  Adj Close   Volume\n",
       "0  2023-07-19  80.449997  81.239998  78.300003  78.690002  78.690002  5985000"
      ]
     },
     "execution_count": 46,
     "metadata": {},
     "output_type": "execute_result"
    }
   ],
   "source": [
    "query_ejemplo= \"\"\"\n",
    "SELECT * FROM FTNT\n",
    "WHERE open > 80.279999\n",
    "\"\"\"\n",
    "t=runQuery(query_ejemplo)\n",
    "t"
   ]
  },
  {
   "cell_type": "code",
   "execution_count": 53,
   "metadata": {},
   "outputs": [
    {
     "data": {
      "text/html": [
       "<div>\n",
       "<style scoped>\n",
       "    .dataframe tbody tr th:only-of-type {\n",
       "        vertical-align: middle;\n",
       "    }\n",
       "\n",
       "    .dataframe tbody tr th {\n",
       "        vertical-align: top;\n",
       "    }\n",
       "\n",
       "    .dataframe thead th {\n",
       "        text-align: right;\n",
       "    }\n",
       "</style>\n",
       "<table border=\"1\" class=\"dataframe\">\n",
       "  <thead>\n",
       "    <tr style=\"text-align: right;\">\n",
       "      <th></th>\n",
       "      <th>Date</th>\n",
       "      <th>Open</th>\n",
       "      <th>High</th>\n",
       "      <th>Low</th>\n",
       "      <th>Close</th>\n",
       "      <th>Adj Close</th>\n",
       "      <th>Volume</th>\n",
       "    </tr>\n",
       "  </thead>\n",
       "  <tbody>\n",
       "    <tr>\n",
       "      <th>0</th>\n",
       "      <td>2020-08-05</td>\n",
       "      <td>28.024</td>\n",
       "      <td>28.160000</td>\n",
       "      <td>27.530001</td>\n",
       "      <td>28.024</td>\n",
       "      <td>28.024</td>\n",
       "      <td>6705000</td>\n",
       "    </tr>\n",
       "    <tr>\n",
       "      <th>1</th>\n",
       "      <td>2023-01-09</td>\n",
       "      <td>49.410</td>\n",
       "      <td>50.669998</td>\n",
       "      <td>49.299999</td>\n",
       "      <td>49.410</td>\n",
       "      <td>49.410</td>\n",
       "      <td>4539700</td>\n",
       "    </tr>\n",
       "    <tr>\n",
       "      <th>2</th>\n",
       "      <td>2023-08-22</td>\n",
       "      <td>58.320</td>\n",
       "      <td>58.610001</td>\n",
       "      <td>57.779999</td>\n",
       "      <td>58.320</td>\n",
       "      <td>58.320</td>\n",
       "      <td>4843300</td>\n",
       "    </tr>\n",
       "  </tbody>\n",
       "</table>\n",
       "</div>"
      ],
      "text/plain": [
       "         Date    Open       High        Low   Close  Adj Close   Volume\n",
       "0  2020-08-05  28.024  28.160000  27.530001  28.024     28.024  6705000\n",
       "1  2023-01-09  49.410  50.669998  49.299999  49.410     49.410  4539700\n",
       "2  2023-08-22  58.320  58.610001  57.779999  58.320     58.320  4843300"
      ]
     },
     "execution_count": 53,
     "metadata": {},
     "output_type": "execute_result"
    }
   ],
   "source": [
    "query_ejemplo= \"\"\"\n",
    "SELECT * FROM FTNT\n",
    "WHERE open = Close\n",
    "\"\"\"\n",
    "t=runQuery(query_ejemplo)\n",
    "t"
   ]
  },
  {
   "cell_type": "code",
   "execution_count": 54,
   "metadata": {},
   "outputs": [
    {
     "name": "stdout",
     "output_type": "stream",
     "text": [
      "         Date       Open       High        Low      Close  Adj Close    Volume\n",
      "0  2021-12-17  63.273998  67.438004  63.023998  66.765999  66.765999  48309500\n",
      "1  2023-11-03  44.500000  50.570000  44.119999  50.480000  50.480000  38057000\n",
      "2  2023-08-04  60.419998  61.360001  56.099998  56.770000  56.770000  32817900\n",
      "3  2020-05-07  24.186001  27.370001  24.086000  27.024000  27.024000  26798000\n",
      "4  2020-03-24  18.101999  20.160000  18.101999  19.955999  19.955999  26132500\n"
     ]
    }
   ],
   "source": [
    "query_ejemplo = \"\"\"\n",
    "SELECT * FROM FTNT\n",
    "ORDER BY Volume DESC\n",
    "LIMIT 5\n",
    "\"\"\"\n",
    "\n",
    "# Ejecutar la consulta\n",
    "t = runQuery(query_ejemplo)\n",
    "\n",
    "# Mostrar los resultados\n",
    "print(t)"
   ]
  }
 ],
 "metadata": {
  "kernelspec": {
   "display_name": "Python 3",
   "language": "python",
   "name": "python3"
  },
  "language_info": {
   "codemirror_mode": {
    "name": "ipython",
    "version": 3
   },
   "file_extension": ".py",
   "mimetype": "text/x-python",
   "name": "python",
   "nbconvert_exporter": "python",
   "pygments_lexer": "ipython3",
   "version": "3.12.2"
  }
 },
 "nbformat": 4,
 "nbformat_minor": 2
}
