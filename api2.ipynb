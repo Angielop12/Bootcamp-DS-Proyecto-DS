{
 "cells": [
  {
   "cell_type": "code",
   "execution_count": 19,
   "metadata": {},
   "outputs": [],
   "source": [
    "url = \"https://data.messari.io/api/v1/assets/bitcoin/metrics\"\n",
    "headers = {\"Accept-Encoding\": \"gzip, deflate\"}\n",
    "\n",
    "response = requests.get(url, headers=headers)\n",
    "data = response.json()"
   ]
  },
  {
   "cell_type": "code",
   "execution_count": 27,
   "metadata": {},
   "outputs": [
    {
     "name": "stdout",
     "output_type": "stream",
     "text": [
      "{'status': {'elapsed': 3, 'timestamp': '2024-06-01T19:00:03.506610663Z'}, 'data': {'id': '1e31218a-e44e-4285-820c-8282ee222035', 'serial_id': 6057, 'symbol': 'BTC', 'name': 'Bitcoin', 'slug': 'bitcoin', 'contract_addresses': None, '_internal_temp_agora_id': '9793eae6-f374-46b4-8764-c2d224429791', 'market_data': {'price_usd': 67698.38780499084, 'price_btc': 1, 'price_eth': 17.82367973228453, 'volume_last_24_hours': 8266137521.291859, 'real_volume_last_24_hours': 7485701017.864002, 'volume_last_24_hours_overstatement_multiple': 1.1042569695964892, 'percent_change_usd_last_1_hour': -0.11349697284732602, 'percent_change_btc_last_1_hour': 0, 'percent_change_eth_last_1_hour': 0.09262126831975609, 'percent_change_usd_last_24_hours': 0.5180236351368355, 'percent_change_btc_last_24_hours': 0, 'percent_change_eth_last_24_hours': 0.09004324783816559, 'ohlcv_last_1_hour': {'open': 67775.3107310084, 'high': 67791.02991998487, 'low': 67663.97712983748, 'close': 67698.38780499084, 'volume': 233927965.36067384}, 'ohlcv_last_24_hour': {'open': 67349.50146923338, 'high': 67909.52679424771, 'low': 67166.36982118926, 'close': 67698.38780499084, 'volume': 7485701017.864002}, 'last_trade_at': '2024-06-01T18:57:00Z'}, 'marketcap': {'rank': 1, 'marketcap_dominance_percent': 49.68866707146117, 'current_marketcap_usd': 1334312511974.794, 'y_2050_marketcap_usd': None, 'y_plus10_marketcap_usd': None, 'liquid_marketcap_usd': None, 'volume_turnover_last_24_hours_percent': None, 'realized_marketcap_usd': 592628538944.0369, 'outstanding_marketcap_usd': 1327745507331.9841}, 'supply': {'y_2050': None, 'y_plus10': None, 'liquid': None, 'circulating': 19706168, 'y_2050_issued_percent': None, 'annual_inflation_percent': None, 'stock_to_flow': None, 'y_plus10_issued_percent': None, 'supply_revived_90d': 19705989.86751266}, 'blockchain_stats_24_hours': {'count_of_active_addresses': 656289, 'transaction_volume': 18772789287.131996, 'adjusted_transaction_volume': 10725277227.564745, 'adjusted_nvt': 123.795914936313, 'median_tx_value': 86.30586057405162, 'median_tx_fee': 3.395839235655641, 'count_of_tx': 713689, 'count_of_payments': 1203468, 'new_issuance': 31162215.208149485, 'average_difficulty': 84381461788831.34, 'kilobytes_added': None, 'count_of_blocks_added': 148}, 'market_data_liquidity': {'clearing_prices_to_sell': None, 'marketcap': None, 'asset_bid_depth': None, 'usd_bid_depth': None, 'updated_at': '0001-01-01T00:00:00Z'}, 'all_time_high': {'price': 73797.34606447241, 'at': '2024-03-14T07:00:00Z', 'days_since': 79, 'percent_down': -8.308180064694842, 'breakeven_multiple': 1.0906098283419048}, 'cycle_low': {'price': 56567.348599633595, 'at': '2024-05-01T08:00:00Z', 'percent_up': 19.620472490924467, 'days_since': 31}, 'token_sale_stats': {'sale_proceeds_usd': None, 'sale_start_date': None, 'sale_end_date': None, 'roi_since_sale_usd_percent': None, 'roi_since_sale_btc_percent': None, 'roi_since_sale_eth_percent': None}, 'mining_stats': {'mining_algo': None, 'network_hash_rate': None, 'available_on_nicehash_percent': None, '1_hour_attack_cost': None, '24_hours_attack_cost': None, 'attack_appeal': None, 'hash_rate': 620804533.4975141, 'hash_rate_30d_average': 600073381.4139142, 'mining_revenue_per_hash_usd': 6.66529e-07, 'mining_revenue_per_hash_native_units': 1e-11, 'mining_revenue_per_hash_per_second_usd': 0.05758807304, 'mining_revenue_per_hash_per_second_native_units': 8.54704e-07, 'mining_revenue_from_fees_percent_last_24_hours': 12.8352485798, 'mining_revenue_native': 530.60439279, 'mining_revenue_usd': 35750936.818403155, 'mining_revenue_total': 65473590986.038795, 'average_difficulty': 84381461788831.34}, 'developer_activity': {'stars': 75613, 'watchers': 3987, 'commits_last_3_months': None, 'commits_last_1_year': None, 'lines_added_last_3_months': None, 'lines_added_last_1_year': None, 'lines_deleted_last_3_months': None, 'lines_deleted_last_1_year': None}, 'roi_data': {'percent_change_last_1_week': -2.301107376555799, 'percent_change_last_1_month': 14.542449479434472, 'percent_change_last_3_months': 7.2104133164785225, 'percent_change_last_1_year': 148.4103308820292, 'percent_change_btc_last_1_week': 0, 'percent_change_btc_last_1_month': 0, 'percent_change_btc_last_3_months': 0, 'percent_change_btc_last_1_year': 0, 'percent_change_eth_last_1_week': -3.5268514048971564, 'percent_change_eth_last_1_month': -9.871312951119195, 'percent_change_eth_last_3_months': -1.4695314544186135, 'percent_change_eth_last_1_year': 24.782049160746165, 'percent_change_month_to_date': -0.022760857535641502, 'percent_change_quarter_to_date': -2.8602715183341303, 'percent_change_year_to_date': 53.24137392516337}, 'roi_by_year': {'2021_usd_percent': 57.12975940534195, '2020_usd_percent': 302.4718018444694, '2019_usd_percent': 87.85667379696426, '2018_usd_percent': -72.43985269116851, '2017_usd_percent': 1283.4518223262273, '2016_usd_percent': 123.24865664618486, '2015_usd_percent': 37.19488159914879, '2014_usd_percent': -57.32381317195552, '2013_usd_percent': 5695.66528819483, '2012_usd_percent': 156.3156368012309, '2011_usd_percent': 1474.0066666666667}, 'risk_metrics': {'sharpe_ratios': {'last_30_days': 3.5018595031111364, 'last_90_days': 0.7706702159997859, 'last_1_year': 2.051298734759761, 'last_3_years': 0.6280809544681482}, 'volatility_stats': {'volatility_last_30_days': 0.518568192026486, 'volatility_last_90_days': 0.6157026851684854, 'volatility_last_1_year': 0.4814884823727779, 'volatility_last_3_years': 0.5886306385576767}}, 'misc_data': {'private_market_price_usd': None, 'vladimir_club_cost': None, 'btc_current_normalized_supply_price_usd': None, 'btc_y2050_normalized_supply_price_usd': None, 'asset_created_at': None, 'asset_age_days': None, 'categories': ['Payments'], 'sectors': ['Currencies'], 'tags': None}, 'reddit': {'active_user_count': 823, 'subscribers': 6632264}, 'on_chain_data': {'addresses_count': 53309520, 'active_addresses': 656289, 'active_addresses_received_count': 514076, 'active_addresses_sent_count': 366128, 'addresses_balance_greater_0_001_native_units_count': 24619257, 'addresses_balance_greater_0_01_native_units_count': 12603708, 'addresses_balance_greater_0_1_native_units_count': 4557930, 'addresses_balance_greater_1_usd_count': 47031818, 'addresses_balance_greater_1_native_units_count': 1011073, 'addresses_balance_greater_10_usd_count': 35569126, 'addresses_balance_greater_10_native_units_count': 152830, 'addresses_balance_greater_100_usd_count': 22106752, 'addresses_balance_greater_100_native_units_count': 15835, 'addresses_balance_greater_100k_usd_count': 654462, 'addresses_balance_greater_100k_native_units_count': 3, 'addresses_balance_greater_10k_usd_count': 3553942, 'addresses_balance_greater_10k_native_units_count': 104, 'addresses_balance_greater_10m_usd_count': 10846, 'addresses_balance_greater_1k_usd_count': 10548060, 'addresses_balance_greater_1k_native_units_count': 2080, 'addresses_balance_greater_1m_usd_count': 115252, 'addresses_balance_greater_1m_native_units_count': 0, 'average_block_gas_limit': None, 'block_height': 845986, 'average_block_interval': 582.91216216, 'blocks_added_last_24_hours': 148, 'block_size_bytes_total': 221133717, 'block_size_bytes_average': 1494146.7364864864, 'uncle_blocks_count_last_24_hours': None, 'uncle_rewards_last_24_hours_usd': None, 'uncle_rewards_last_24_hours_native_units': None, 'mining_revenue_from_uncle_blocks_percent_last_24_hours': None, 'block_weight': 587087448, 'average_block_weight': 3966807.08108108, 'total_fees_last_24_hours': 68.10439279, 'total_fees_last_24_hours_usd': 4588721.610253674, 'hash_rate': 620804533.4975141, 'issuance_last_24_hours_native_units': 462.5, 'issuance_rate_daily': 0.0023470021, 'issuance_total_usd': 31162215.208149485, 'issuance_total_native_units': 462.5, 'new_issuance': 31162215.208149485, 'issuance_rate': 0.8566557665, 'realized_marketcap_usd': 592628538944.0369, 'adjusted_nvt': 123.795914936313, 'adjusted_nvt_90d_moving_average': 149.51558257848282, 'adjusted_rvt': 55.255311948575, 'adjusted_rvt_90d_moving_average': 66.73507894664469, 'txn_count_last_24_hours': 713689, 'txn_contracts_calls_count_last_24_hours': None, 'txn_contracts_calls_success_count_last_24_hours': None, 'txn_contracts_creation_count_last_24_hours': None, 'txn_contracts_destruction_count_last_24_hours': None, 'txn_contracts_count_last_24_hours': None, 'txn_erc20_count_last_24_hours': None, 'txn_erc721_count_last_24_hours': None, 'txn_per_second_count': 8.260289351852, 'txn_token_count_last_24_hours': None, 'average_fee_usd': 6.429859886083687, 'average_fee_native_units': 9.543e-05, 'median_fee_usd': 3.395839235655641, 'median_fee_native_units': 5.04e-05, 'average_txn_gas_used': None, 'txn_gas_limit_last_24_hours': None, 'average_txn_gas_limit': None, 'txn_gas_used_last_24_hours': None, 'transfer_count_last_24_hours': 1203468, 'transfer_erc_20_count_last_24_hours': None, 'transfer_erc721_count_last_24_hours': None, 'txn_volume_last_24_hours_usd': 18772789287.131996, 'adjusted_txn_volume_last_24_hours_usd': 10725277227.564745, 'adjusted_txn_volume_last_24_hours_native_units': 159181.26117207, 'txn_volume_last_24_hours_native_units': 278619.95648589, 'average_transfer_value_usd': 15598.910222070705, 'average_transfer_value_native_units': 0.231514220973, 'median_transfer_value_usd': 86.30586057405162, 'median_transfer_value_native_units': 0.001280925, 'average_utxo_age': 843.0430338, 'value_weighted_average_utxo_age': 1529.83302241, 'median_utxo_age': 312, 'utxo_count_last_24_hours': 183263083, 'utxo_in_loss_count': 13328443, 'utxo_in_profit_count': 169934640}, 'exchange_flows': {'flow_in_exchange_native_units': 28663.57285304, 'flow_in_exchange_usd': 1931287407.3100622, 'flow_in_exchange_native_units_inclusive': 32848.65070714, 'flow_in_exchange_usd_inclusive': 2213268589.4772506, 'flow_out_exchange_native_units': 45284.00241899, 'flow_out_exchange_usd': 3051134765.1176825, 'flow_out_exchange_native_units_inclusive': 49469.08027309, 'flow_out_exchange_usd_inclusive': 3333115947.284871, 'flow_in_binance_usd': 569095515.3649919, 'flow_in_binance_native_units': 8446.34035476, 'flow_in_bitfinex_usd': 32677870.74982489, 'flow_in_bitfinex_native_units': 484.99489272, 'flow_in_bitmex_usd': 9188147.907685464, 'flow_in_bitmex_native_units': 136.36766125, 'flow_in_bitstamp_usd': 53046087.46074062, 'flow_in_bitstamp_native_units': 787.29369163, 'flow_in_bittrex_usd': 0, 'flow_in_bittrex_native_units': 0, 'flow_in_gemini_usd': 26225116.35750058, 'flow_in_gemini_native_units': 389.22509951, 'flow_in_huobi_usd': 15168007.29569466, 'flow_in_huobi_native_units': 225.11889246, 'flow_in_kraken_usd': 805261355.337306, 'flow_in_kraken_native_units': 11951.44101136, 'flow_in_poloniex_usd': 780383.1924239808, 'flow_in_poloniex_native_units': 11.58220698, 'flow_net_binance_usd': 40987512.587957904, 'flow_net_binance_native_units': 608.32403747, 'flow_net_bitfinex_usd': 6297210.015659977, 'flow_net_bitfinex_native_units': 93.46125148, 'flow_net_bitmex_usd': 5983060.272383844, 'flow_net_bitmex_native_units': 88.79873775, 'flow_net_bitstamp_usd': 9196777.922379442, 'flow_net_bitstamp_native_units': 136.49574527, 'flow_net_bittrex_usd': -13.970105300016678, 'flow_net_bittrex_native_units': -0.00020734, 'flow_net_gemini_usd': -16072436.826004189, 'flow_net_gemini_native_units': -238.54215698, 'flow_net_huobi_usd': 5733048.702189545, 'flow_net_huobi_native_units': 85.08814303, 'flow_net_kraken_usd': -962004706.5495567, 'flow_net_kraken_native_units': -14277.77755231, 'flow_net_poloniex_usd': -63181.22625900468, 'flow_net_poloniex_native_units': -0.9377163, 'flow_out_binance_usd': 529046981.87623197, 'flow_out_binance_native_units': 7851.95235587, 'flow_out_bitfinex_usd': 26380660.734164912, 'flow_out_bitfinex_native_units': 391.53364124, 'flow_out_bitmex_usd': 3205087.6353016202, 'flow_out_bitmex_native_units': 47.5689235, 'flow_out_bitstamp_usd': 62639399.53448223, 'flow_out_bitstamp_native_units': 929.67467464, 'flow_out_bittrex_usd': 13.970105300016678, 'flow_out_bittrex_native_units': 0.00020734, 'flow_out_gemini_usd': 42313992.63461876, 'flow_out_gemini_native_units': 628.01124576, 'flow_out_huobi_usd': 9440934.273368983, 'flow_out_huobi_native_units': 140.11943863, 'flow_out_kraken_usd': 1977010999.5575273, 'flow_out_kraken_native_units': 29342.18832608, 'flow_out_poloniex_usd': 843856.6683807607, 'flow_out_poloniex_native_units': 12.52426076, 'supply_exchange_native_units': 1666188.43392595, 'supply_exchange_usd': 112264048768.2811, 'supply_binance_usd': 44316374558.49124, 'supply_binance_native_units': 657729.98153039, 'supply_bitfinex_usd': 17919665081.52457, 'supply_bitfinex_native_units': 265958.14979282, 'supply_bitmex_usd': 3727029040.569349, 'supply_bitmex_native_units': 55315.4170764, 'supply_bitstamp_usd': 2037988858.4348948, 'supply_bitstamp_native_units': 30247.20292605, 'supply_bittrex_usd': 197331786.80063125, 'supply_bittrex_native_units': 2928.73760051, 'supply_gemini_usd': 9220669761.014175, 'supply_gemini_native_units': 136850.34058021, 'supply_huobi_usd': 730252936.7427095, 'supply_huobi_native_units': 10838.18916555, 'supply_kraken_usd': 8184375629.1299305, 'supply_kraken_native_units': 121469.9822586, 'supply_poloniex_usd': 524622854.43427324, 'supply_poloniex_native_units': 7786.29081903}, 'miner_flows': {'supply_1hop_miners_usd': 171125512554.1922, 'supply_1hop_miners_native_units': 2539792.14980891, 'supply_miners_usd': 120560454875.14192, 'supply_miners_native_units': 1789321.13802908}, 'supply_activity': {'supply_active_10y': 16382962.97718893, 'supply_active_180d': 5285714.67300591, 'supply_active_1d': 276605.25633947, 'supply_active_1y': 6840319.18868864, 'supply_active_1y_percent': 34.711878138, 'supply_active_2y': 9016133.55316136, 'supply_active_30d': 1379887.71185172, 'supply_active_3y': 10574443.19395597, 'supply_active_4y': 12841273.70082943, 'supply_active_5y': 13633054.04899286, 'supply_active_7d': 681250.81284607, 'supply_active_90d': 3657596.1606898, 'supply_active_ever': 17930671.36776212, 'outstanding': 7779.29637437, 'supply_revived_1y': 2845.00097473, 'supply_revived_2y': 1805.64504668, 'supply_revived_30d': 31212.22594239, 'supply_revived_3y': 1452.38381111, 'supply_revived_4y': 338.73194284, 'supply_revived_5y': 160.98872122, 'supply_revived_7d': 47092.90116522, 'supply_revived_90d': 10968.68175353}, 'supply_distribution': {'supply_in_addresses_balance_greater_0_001_native_units': 19697641.39734404, 'supply_in_addresses_balance_greater_0_01_native_units': 19653957.95660731, 'supply_in_addresses_balance_greater_0_1_native_units': 19380247.35384903, 'supply_in_addresses_balance_greater_1_usd': 19703311.86895466, 'supply_in_addresses_balance_greater_10_usd': 19702566.20954248, 'supply_in_addresses_balance_greater_100_usd': 19694661.0528246, 'supply_in_addresses_balance_greater_100k_usd': 17887321.76136932, 'supply_in_addresses_balance_greater_100k_native_units': 564902.38683025, 'supply_in_addresses_balance_greater_100_native_units': 11805071.5807133, 'supply_in_addresses_balance_greater_10k_usd': 19262365.1604762, 'supply_in_addresses_balance_greater_10k_native_units': 3088693.26026025, 'supply_in_addresses_balance_greater_10m_usd': 11244078.41787994, 'supply_in_addresses_balance_greater_10_native_units': 16155997.50236877, 'supply_in_addresses_balance_greater_1k_usd': 19630141.93989042, 'supply_in_addresses_balance_greater_1k_native_units': 7930424.59410978, 'supply_in_addresses_balance_greater_1m_usd': 15724296.39624919, 'supply_in_addresses_balance_greater_1m_native_units': 0, 'supply_in_addresses_balance_greater_1_native_units': 18285692.56383674, 'supply_in_contracts_usd': None, 'supply_in_contracts_native_units': None, 'supply_shielded': None, 'supply_in_top_100_addresses': 3048693.25900733, 'supply_in_top_10_percent_addresses': 19447812.31964177, 'supply_in_top_1_percent_addresses': 17679011.14138563, 'supply_in_utxo_in_loss': 1926087.62428592, 'supply_in_utxo_in_profit': 17779902.24322674}, 'alert_messages': None}}\n"
     ]
    }
   ],
   "source": [
    "print(data)"
   ]
  },
  {
   "cell_type": "code",
   "execution_count": 33,
   "metadata": {},
   "outputs": [
    {
     "data": {
      "text/plain": [
       "dict_keys(['status', 'data'])"
      ]
     },
     "execution_count": 33,
     "metadata": {},
     "output_type": "execute_result"
    }
   ],
   "source": [
    "data.keys()"
   ]
  },
  {
   "cell_type": "code",
   "execution_count": 34,
   "metadata": {},
   "outputs": [
    {
     "data": {
      "text/plain": [
       "'2024-06-01T19:18:29.597694236Z'"
      ]
     },
     "execution_count": 34,
     "metadata": {},
     "output_type": "execute_result"
    }
   ],
   "source": [
    "fecha=data['status']['timestamp']\n",
    "fecha"
   ]
  },
  {
   "cell_type": "code",
   "execution_count": 35,
   "metadata": {},
   "outputs": [
    {
     "data": {
      "text/plain": [
       "67680.32552471853"
      ]
     },
     "execution_count": 35,
     "metadata": {},
     "output_type": "execute_result"
    }
   ],
   "source": [
    "price=data['data']['market_data']['price_usd']\n",
    "price"
   ]
  },
  {
   "cell_type": "code",
   "execution_count": 36,
   "metadata": {},
   "outputs": [
    {
     "data": {
      "text/plain": [
       "{'rank': 1,\n",
       " 'marketcap_dominance_percent': 49.65307494898505,\n",
       " 'current_marketcap_usd': 1333425734694.1174,\n",
       " 'y_2050_marketcap_usd': None,\n",
       " 'y_plus10_marketcap_usd': None,\n",
       " 'liquid_marketcap_usd': None,\n",
       " 'volume_turnover_last_24_hours_percent': None,\n",
       " 'realized_marketcap_usd': 592628538944.0369,\n",
       " 'outstanding_marketcap_usd': 1327745507331.9841}"
      ]
     },
     "execution_count": 36,
     "metadata": {},
     "output_type": "execute_result"
    }
   ],
   "source": [
    "mk=data['data']['marketcap']\n",
    "mk"
   ]
  },
  {
   "cell_type": "code",
   "execution_count": 37,
   "metadata": {},
   "outputs": [
    {
     "data": {
      "text/plain": [
       "{'count_of_active_addresses': 656289,\n",
       " 'transaction_volume': 18772789287.131996,\n",
       " 'adjusted_transaction_volume': 10725277227.564745,\n",
       " 'adjusted_nvt': 123.795914936313,\n",
       " 'median_tx_value': 86.30586057405162,\n",
       " 'median_tx_fee': 3.395839235655641,\n",
       " 'count_of_tx': 713689,\n",
       " 'count_of_payments': 1203468,\n",
       " 'new_issuance': 31162215.208149485,\n",
       " 'average_difficulty': 84381461788831.34,\n",
       " 'kilobytes_added': None,\n",
       " 'count_of_blocks_added': 148}"
      ]
     },
     "execution_count": 37,
     "metadata": {},
     "output_type": "execute_result"
    }
   ],
   "source": [
    "stats=data['data']['blockchain_stats_24_hours']\n",
    "stats\n"
   ]
  },
  {
   "cell_type": "code",
   "execution_count": 39,
   "metadata": {},
   "outputs": [
    {
     "data": {
      "text/plain": [
       "{'clearing_prices_to_sell': None,\n",
       " 'marketcap': None,\n",
       " 'asset_bid_depth': None,\n",
       " 'usd_bid_depth': None,\n",
       " 'updated_at': '0001-01-01T00:00:00Z'}"
      ]
     },
     "execution_count": 39,
     "metadata": {},
     "output_type": "execute_result"
    }
   ],
   "source": [
    "liquidity=data['data']['market_data_liquidity']\n",
    "liquidity"
   ]
  },
  {
   "cell_type": "code",
   "execution_count": 25,
   "metadata": {},
   "outputs": [
    {
     "name": "stdout",
     "output_type": "stream",
     "text": [
      "                       Metric  \\\n",
      "0                          id   \n",
      "1                   serial_id   \n",
      "2                      symbol   \n",
      "3                        name   \n",
      "4                        slug   \n",
      "5          contract_addresses   \n",
      "6     _internal_temp_agora_id   \n",
      "7                 market_data   \n",
      "8                   marketcap   \n",
      "9                      supply   \n",
      "10  blockchain_stats_24_hours   \n",
      "11      market_data_liquidity   \n",
      "12              all_time_high   \n",
      "13                  cycle_low   \n",
      "14           token_sale_stats   \n",
      "15               mining_stats   \n",
      "16         developer_activity   \n",
      "17                   roi_data   \n",
      "18                roi_by_year   \n",
      "19               risk_metrics   \n",
      "20                  misc_data   \n",
      "21                     reddit   \n",
      "22              on_chain_data   \n",
      "23             exchange_flows   \n",
      "24                miner_flows   \n",
      "25            supply_activity   \n",
      "26        supply_distribution   \n",
      "27             alert_messages   \n",
      "\n",
      "                                                Value  \n",
      "0                1e31218a-e44e-4285-820c-8282ee222035  \n",
      "1                                                6057  \n",
      "2                                                 BTC  \n",
      "3                                             Bitcoin  \n",
      "4                                             bitcoin  \n",
      "5                                                None  \n",
      "6                9793eae6-f374-46b4-8764-c2d224429791  \n",
      "7   {'price_usd': 67698.38780499084, 'price_btc': ...  \n",
      "8   {'rank': 1, 'marketcap_dominance_percent': 49....  \n",
      "9   {'y_2050': None, 'y_plus10': None, 'liquid': N...  \n",
      "10  {'count_of_active_addresses': 656289, 'transac...  \n",
      "11  {'clearing_prices_to_sell': None, 'marketcap':...  \n",
      "12  {'price': 73797.34606447241, 'at': '2024-03-14...  \n",
      "13  {'price': 56567.348599633595, 'at': '2024-05-0...  \n",
      "14  {'sale_proceeds_usd': None, 'sale_start_date':...  \n",
      "15  {'mining_algo': None, 'network_hash_rate': Non...  \n",
      "16  {'stars': 75613, 'watchers': 3987, 'commits_la...  \n",
      "17  {'percent_change_last_1_week': -2.301107376555...  \n",
      "18  {'2021_usd_percent': 57.12975940534195, '2020_...  \n",
      "19  {'sharpe_ratios': {'last_30_days': 3.501859503...  \n",
      "20  {'private_market_price_usd': None, 'vladimir_c...  \n",
      "21  {'active_user_count': 823, 'subscribers': 6632...  \n",
      "22  {'addresses_count': 53309520, 'active_addresse...  \n",
      "23  {'flow_in_exchange_native_units': 28663.572853...  \n",
      "24  {'supply_1hop_miners_usd': 171125512554.1922, ...  \n",
      "25  {'supply_active_10y': 16382962.97718893, 'supp...  \n",
      "26  {'supply_in_addresses_balance_greater_0_001_na...  \n",
      "27                                               None  \n"
     ]
    }
   ],
   "source": [
    "# Crear un DataFrame de pandas con los datos del JSON\n",
    "df = pd.DataFrame(data['data'].items(), columns=['Metric', 'Value'])\n",
    "\n",
    "# Mostrar el DataFrame\n",
    "print(df)"
   ]
  },
  {
   "cell_type": "code",
   "execution_count": 40,
   "metadata": {},
   "outputs": [
    {
     "data": {
      "text/plain": [
       "{'sharpe_ratios': {'last_30_days': 3.5018595031111364,\n",
       "  'last_90_days': 0.7706702159997859,\n",
       "  'last_1_year': 2.051298734759761,\n",
       "  'last_3_years': 0.6280809544681482},\n",
       " 'volatility_stats': {'volatility_last_30_days': 0.518568192026486,\n",
       "  'volatility_last_90_days': 0.6157026851684854,\n",
       "  'volatility_last_1_year': 0.4814884823727779,\n",
       "  'volatility_last_3_years': 0.5886306385576767}}"
      ]
     },
     "execution_count": 40,
     "metadata": {},
     "output_type": "execute_result"
    }
   ],
   "source": [
    "risk=data['data']['risk_metrics']\n",
    "risk"
   ]
  }
 ],
 "metadata": {
  "kernelspec": {
   "display_name": "Python 3",
   "language": "python",
   "name": "python3"
  },
  "language_info": {
   "codemirror_mode": {
    "name": "ipython",
    "version": 3
   },
   "file_extension": ".py",
   "mimetype": "text/x-python",
   "name": "python",
   "nbconvert_exporter": "python",
   "pygments_lexer": "ipython3",
   "version": "3.12.2"
  }
 },
 "nbformat": 4,
 "nbformat_minor": 2
}
